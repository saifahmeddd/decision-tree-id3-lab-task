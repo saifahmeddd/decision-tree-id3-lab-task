{
 "cells": [
  {
   "cell_type": "markdown",
   "id": "fb2812c5-c316-4a2f-85ac-f8371a5a0718",
   "metadata": {},
   "source": [
    "# LAB04 Decision Tree (ID3) Algorithm (Supervised Learning)\n",
    "\n",
    "Objectives:\n",
    "1. Knowing the basics of the ID3 Algorithm\n",
    "1. Loading csv data in python, (using pandas library)\n",
    "1. Training and building Decision tree using ID3 algorithm from scratch\n",
    "1. Predicting from the tree\n",
    "1. Finding out the accuracy"
   ]
  },
  {
   "cell_type": "code",
   "execution_count": 9,
   "id": "067b68be-2c4b-4d65-a425-1959ea87026d",
   "metadata": {},
   "outputs": [],
   "source": [
    "import pandas as pd #for manipulating the csv data\n",
    "import numpy as np #for mathematical calculation"
   ]
  },
  {
   "cell_type": "code",
   "execution_count": 10,
   "id": "a0b0b862-70f3-4a54-9d3f-7bc5e8a15f3a",
   "metadata": {},
   "outputs": [],
   "source": [
    "train_data_m = pd.read_csv(\"PlayTennis.csv\")\n",
    "test_data_m = pd.read_csv(\"PlayTennis.csv\")"
   ]
  },
  {
   "cell_type": "code",
   "execution_count": 11,
   "id": "13e74e01-168b-4596-866b-e749e9b1b124",
   "metadata": {},
   "outputs": [
    {
     "data": {
      "text/html": [
       "<div>\n",
       "<style scoped>\n",
       "    .dataframe tbody tr th:only-of-type {\n",
       "        vertical-align: middle;\n",
       "    }\n",
       "\n",
       "    .dataframe tbody tr th {\n",
       "        vertical-align: top;\n",
       "    }\n",
       "\n",
       "    .dataframe thead th {\n",
       "        text-align: right;\n",
       "    }\n",
       "</style>\n",
       "<table border=\"1\" class=\"dataframe\">\n",
       "  <thead>\n",
       "    <tr style=\"text-align: right;\">\n",
       "      <th></th>\n",
       "      <th>Outlook</th>\n",
       "      <th>Temperature</th>\n",
       "      <th>Humidity</th>\n",
       "      <th>Wind</th>\n",
       "      <th>Play Tennis</th>\n",
       "    </tr>\n",
       "  </thead>\n",
       "  <tbody>\n",
       "    <tr>\n",
       "      <th>0</th>\n",
       "      <td>Sunny</td>\n",
       "      <td>Hot</td>\n",
       "      <td>High</td>\n",
       "      <td>Weak</td>\n",
       "      <td>No</td>\n",
       "    </tr>\n",
       "    <tr>\n",
       "      <th>1</th>\n",
       "      <td>Sunny</td>\n",
       "      <td>Hot</td>\n",
       "      <td>High</td>\n",
       "      <td>Strong</td>\n",
       "      <td>No</td>\n",
       "    </tr>\n",
       "    <tr>\n",
       "      <th>2</th>\n",
       "      <td>Overcast</td>\n",
       "      <td>Hot</td>\n",
       "      <td>High</td>\n",
       "      <td>Weak</td>\n",
       "      <td>Yes</td>\n",
       "    </tr>\n",
       "    <tr>\n",
       "      <th>3</th>\n",
       "      <td>Rain</td>\n",
       "      <td>Mild</td>\n",
       "      <td>High</td>\n",
       "      <td>Weak</td>\n",
       "      <td>Yes</td>\n",
       "    </tr>\n",
       "    <tr>\n",
       "      <th>4</th>\n",
       "      <td>Rain</td>\n",
       "      <td>Cool</td>\n",
       "      <td>Normal</td>\n",
       "      <td>Weak</td>\n",
       "      <td>Yes</td>\n",
       "    </tr>\n",
       "  </tbody>\n",
       "</table>\n",
       "</div>"
      ],
      "text/plain": [
       "    Outlook Temperature Humidity    Wind Play Tennis\n",
       "0     Sunny         Hot     High    Weak          No\n",
       "1     Sunny         Hot     High  Strong          No\n",
       "2  Overcast         Hot     High    Weak         Yes\n",
       "3      Rain        Mild     High    Weak         Yes\n",
       "4      Rain        Cool   Normal    Weak         Yes"
      ]
     },
     "execution_count": 11,
     "metadata": {},
     "output_type": "execute_result"
    }
   ],
   "source": [
    "train_data_m.head()"
   ]
  },
  {
   "cell_type": "markdown",
   "id": "4930c1cd-3335-495d-8b13-d0b01302d5e6",
   "metadata": {},
   "source": [
    "### TASK1) Entropy Calculation (10 pts.)\n",
    "Complete the function to calculate the Entrop of whole dataset\n",
    "parameters: \n",
    "1. Train_data (complete dataset without labels)\n",
    "2. Labels (labels vector)\n",
    "3. Class (list of classes) that is already done in below code\n",
    "\n",
    "![ Entropy Calculations](res/1.png)"
   ]
  },
  {
   "cell_type": "code",
   "execution_count": 12,
   "id": "97ab475b-a597-4100-9630-fb1c7c37f464",
   "metadata": {},
   "outputs": [],
   "source": [
    "# Calculate the class Entropy for Binary class classification problem\n",
    "# Iterate each class in dataset and calculate the entropy and add it.\n",
    "def calc_total_entropy(train_data, label, class_list):\n",
    "     total_entr = 0\n",
    "     for i in class_list:\n",
    "         total_entr += calc_entropy(train_data, label, i)\n",
    "        \n",
    "     return total_entr"
   ]
  },
  {
   "cell_type": "markdown",
   "id": "c2bc9df0-c11b-4ece-83a1-537f6f6043b5",
   "metadata": {},
   "source": [
    "### Calculate the entropy for feature.\n",
    "* Mathematical formulation is as follows\n",
    "\n",
    "\n",
    "   ![ Entropy Calculations](res/2.png)"
   ]
  },
  {
   "cell_type": "code",
   "execution_count": 13,
   "id": "b75f7408-4212-4a30-a531-abf85c79013a",
   "metadata": {},
   "outputs": [],
   "source": [
    "## THIS FUNCTION IS COMPLETED FOR YOU. YOU MAY AID YOUR CODE WITH THIS REFERENCE\n",
    "def calc_entropy(feature_value_data, label, class_list):\n",
    "    class_count = feature_value_data.shape[0]\n",
    "    entropy = 0\n",
    "    \n",
    "    for c in class_list:\n",
    "        label_class_count = feature_value_data[feature_value_data[label] == c].shape[0]\n",
    "    \n",
    "        entropy_class = 0\n",
    "        if label_class_count != 0:\n",
    "            probability_class = label_class_count/class_count\n",
    "            entropy_class = - probability_class * np.log2(probability_class) \n",
    "        \n",
    "        entropy += entropy_class\n",
    "        \n",
    "    return entropy"
   ]
  },
  {
   "cell_type": "markdown",
   "id": "74e7ad93-c068-4427-8cb2-268b612d917f",
   "metadata": {},
   "source": [
    "### TASK2: Calculate Information Gain (10 pts.) \n",
    "* Information gain formula is given below.\n",
    "* Implement the function **calc_info_gain** which should return the information gain for certain feature which is passes as parameter.\n",
    "\n",
    "![ Entropy Calculations](res/3.png)\n",
    "![ Entropy Calculations](res/4.png)\n",
    "![ Entropy Calculations](res/6.png)\n"
   ]
  },
  {
   "cell_type": "code",
   "execution_count": 14,
   "id": "cd30ca40-ba83-4835-8f11-02e387374580",
   "metadata": {},
   "outputs": [],
   "source": [
    "def calc_info_gain(feature_name, train_data, label, class_list):\n",
    "    total_entropy = calc_entropy(train_data, label, class_list)\n",
    "    weighted_entropy_sum = 0\n",
    "    feature_values = train_data[feature_name].unique()\n",
    "    \n",
    "    for value in feature_values:\n",
    "        subset = train_data[train_data[feature_name] == value]\n",
    "        subset_entropy = calc_entropy(subset, label, class_list)\n",
    "        weighted_entropy_sum += (len(subset) / len(train_data)) * subset_entropy\n",
    "        \n",
    "    info_gain = total_entropy - weighted_entropy_sum\n",
    "    return info_gain\n"
   ]
  },
  {
   "cell_type": "markdown",
   "id": "bbd582ea-fe99-49fa-857b-758ad50d919d",
   "metadata": {},
   "source": [
    "### Find Most Informative Feature (find_most_informative_feature)\n",
    "* This function will return the feature with maximum gain.\n",
    "* The maximum gain node will be used for splitting the tree.\n",
    "* Function is already implemented for you."
   ]
  },
  {
   "cell_type": "code",
   "execution_count": 15,
   "id": "8a1cb491-ffe6-47ef-a44e-1dd19b60841d",
   "metadata": {},
   "outputs": [],
   "source": [
    "def find_most_informative_feature(train_data, label, class_list):\n",
    "    feature_list = train_data.columns.drop(label)\n",
    "    max_info_gain = -1\n",
    "    max_info_feature = None\n",
    "    \n",
    "    for feature in feature_list:  \n",
    "        feature_info_gain = calc_info_gain(feature, train_data, label, class_list)\n",
    "        if max_info_gain < feature_info_gain:\n",
    "            max_info_gain = feature_info_gain\n",
    "            max_info_feature = feature\n",
    "            \n",
    "    return max_info_feature"
   ]
  },
  {
   "cell_type": "markdown",
   "id": "9d93edf4-53e3-4003-8dde-5ac41abe63e9",
   "metadata": {},
   "source": [
    "### Sub Trees Generation Function\n",
    "* This fuction is completed. Don't alter the function\n",
    "* Understanding of this function will help you in understanding the ID3 procedure"
   ]
  },
  {
   "cell_type": "code",
   "execution_count": 16,
   "id": "e387cf91-3909-4a90-8e4e-a1399ba9be8c",
   "metadata": {},
   "outputs": [],
   "source": [
    "def generate_sub_tree(feature_name, train_data, label, class_list):\n",
    "    feature_value_count_dict = train_data[feature_name].value_counts(sort=False)\n",
    "    tree = {}\n",
    "    \n",
    "    for feature_value, count in feature_value_count_dict.items():\n",
    "        feature_value_data = train_data[train_data[feature_name] == feature_value]\n",
    "        \n",
    "        assigned_to_node = False\n",
    "        for c in class_list:\n",
    "            class_count = feature_value_data[feature_value_data[label] == c].shape[0]\n",
    "\n",
    "            if class_count == count:\n",
    "                tree[feature_value] = c\n",
    "                train_data = train_data[train_data[feature_name] != feature_value]\n",
    "                assigned_to_node = True\n",
    "        if not assigned_to_node:\n",
    "            tree[feature_value] = \"?\"\n",
    "            \n",
    "    return tree, train_data"
   ]
  },
  {
   "cell_type": "markdown",
   "id": "183c7573-38ea-4b73-9144-1452706f6c87",
   "metadata": {},
   "source": [
    "### Driver Function (make_tree)\n",
    "* Don't change this function. This is completed\n",
    "* This will be called into ID3 driver code and rest of functionality will work when other functions are completed "
   ]
  },
  {
   "cell_type": "code",
   "execution_count": 17,
   "id": "22f9ab27-3b0b-4b14-8f9f-14044cdc6f66",
   "metadata": {},
   "outputs": [],
   "source": [
    "def make_tree(root, prev_feature_value, train_data, label, class_list):\n",
    "    if train_data.shape[0] != 0:\n",
    "        max_info_feature = find_most_informative_feature(train_data, label, class_list)\n",
    "        tree, train_data = generate_sub_tree(max_info_feature, train_data, label, class_list)\n",
    "        next_root = None\n",
    "        \n",
    "        if prev_feature_value != None:\n",
    "            root[prev_feature_value] = dict()\n",
    "            root[prev_feature_value][max_info_feature] = tree\n",
    "            next_root = root[prev_feature_value][max_info_feature]\n",
    "        else:\n",
    "            root[max_info_feature] = tree\n",
    "            next_root = root[max_info_feature]\n",
    "        \n",
    "        for node, branch in list(next_root.items()):\n",
    "            if branch == \"?\":\n",
    "                feature_value_data = train_data[train_data[max_info_feature] == node]\n",
    "                make_tree(next_root, node, feature_value_data, label, class_list)"
   ]
  },
  {
   "cell_type": "markdown",
   "id": "64f61a5d-4d23-4354-b3ae-348db215a7e9",
   "metadata": {},
   "source": [
    "### ID3 Driver Code (No changes requried)"
   ]
  },
  {
   "cell_type": "code",
   "execution_count": 18,
   "id": "f663d433-4de3-44af-bb2b-060b05487203",
   "metadata": {},
   "outputs": [],
   "source": [
    "def id3(train_data_m, label):\n",
    "    train_data = train_data_m.copy()\n",
    "    tree = {}\n",
    "    class_list = train_data[label].unique()\n",
    "    make_tree(tree, None, train_data, label, class_list)\n",
    "    \n",
    "    return tree"
   ]
  },
  {
   "cell_type": "code",
   "execution_count": 19,
   "id": "b2066ca9-4741-43ea-b087-ddd7a361a421",
   "metadata": {},
   "outputs": [
    {
     "name": "stdout",
     "output_type": "stream",
     "text": [
      "{'Outlook': {'Sunny': {'Humidity': {'High': 'No', 'Normal': 'Yes'}}, 'Overcast': 'Yes', 'Rain': {'Wind': {'Weak': 'Yes', 'Strong': 'No'}}}}\n"
     ]
    }
   ],
   "source": [
    "# Press the green button in the gutter to run the script.\n",
    "if __name__ == '__main__':\n",
    "    tree = id3(train_data_m, 'Play Tennis')\n",
    "    print(tree)\n"
   ]
  },
  {
   "cell_type": "markdown",
   "id": "546c2adc-e3d5-4eca-9588-97012d041587",
   "metadata": {},
   "source": [
    "### Validate the predictions on different instances (test_data) which is already loaded in memory."
   ]
  },
  {
   "cell_type": "code",
   "execution_count": 20,
   "id": "96fb1b43-82f9-46cc-89eb-8dee2843bb42",
   "metadata": {},
   "outputs": [],
   "source": [
    "def predict(tree, instance):\n",
    "    if not isinstance(tree, dict):\n",
    "        return tree\n",
    "    else:\n",
    "        root_node = next(iter(tree))\n",
    "        feature_value = instance[root_node]\n",
    "        if feature_value in tree[root_node]:\n",
    "            return predict(tree[root_node][feature_value], instance)\n",
    "        else:\n",
    "            return None"
   ]
  },
  {
   "cell_type": "code",
   "execution_count": 21,
   "id": "f3463914-5017-4220-890c-6a3beba1f50c",
   "metadata": {},
   "outputs": [],
   "source": [
    "def evaluate(tree, test_data_m, label):\n",
    "    correct_preditct = 0\n",
    "    wrong_preditct = 0\n",
    "    for index, row in test_data_m.iterrows():\n",
    "        result = predict(tree, test_data_m.iloc[index])\n",
    "        if result == test_data_m[label].iloc[index]:\n",
    "            correct_preditct += 1\n",
    "        else:\n",
    "            wrong_preditct += 1\n",
    "    accuracy = correct_preditct / (correct_preditct + wrong_preditct)\n",
    "    return accuracy"
   ]
  },
  {
   "cell_type": "code",
   "execution_count": 22,
   "id": "965c4015-4fd6-40f1-9863-200b807919d7",
   "metadata": {},
   "outputs": [
    {
     "name": "stdout",
     "output_type": "stream",
     "text": [
      "accuracy: 1.0\n"
     ]
    }
   ],
   "source": [
    "accuracy = evaluate(tree, test_data_m, 'Play Tennis')\n",
    "print(\"accuracy:\", accuracy)"
   ]
  }
 ],
 "metadata": {
  "kernelspec": {
   "display_name": "Python 3 (ipykernel)",
   "language": "python",
   "name": "python3"
  },
  "language_info": {
   "codemirror_mode": {
    "name": "ipython",
    "version": 3
   },
   "file_extension": ".py",
   "mimetype": "text/x-python",
   "name": "python",
   "nbconvert_exporter": "python",
   "pygments_lexer": "ipython3",
   "version": "3.12.5"
  }
 },
 "nbformat": 4,
 "nbformat_minor": 5
}
